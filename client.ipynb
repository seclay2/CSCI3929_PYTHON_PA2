{
 "cells": [
  {
   "cell_type": "markdown",
   "metadata": {},
   "source": [
    "# Client"
   ]
  },
  {
   "cell_type": "code",
   "execution_count": 1,
   "metadata": {},
   "outputs": [],
   "source": [
    "import socket, os\n",
    "from threading import Thread\n",
    "\n",
    "##Client\n",
    "class Client:\n",
    "    \n",
    "    def __init__(self, port):\n",
    "        self.__port = port\n",
    "        self.__outgoingsocket = socket.socket(socket.AF_INET, socket.SOCK_STREAM)\n",
    "        self.__incomingsocket = socket.socket(socket.AF_INET, socket.SOCK_STREAM)\n",
    "        self.__outgoingsocket.connect(('localhost', self.__port))\n",
    "    \n",
    "    def __displayMainMenu(self):\n",
    "        print(' Client Messaging')\n",
    "        print('___________________')\n",
    "        print('1. Login')\n",
    "        print('2. Create User')\n",
    "        print('3. Close')\n",
    "        \n",
    "    def runClient(self):\n",
    "        self.__displayMainMenu()\n",
    "        choice = input(':')\n",
    "        while choice != '3':\n",
    "            if choice == '1':\n",
    "                self.__login()\n",
    "            elif choice == '2':\n",
    "                self.__createNewUser()\n",
    "            else:\n",
    "                print('Invalid Command')\n",
    "            self.__displayMainMenu()\n",
    "            choice = input(':')\n",
    "            self.__outgoingsocket.close()\n",
    "            self.__incomingsocket.close()\n",
    "            self.__outgoingsocket = socket.socket(socket.AF_INET, socket.SOCK_STREAM)\n",
    "            self.__incomingsocket = socket.socket(socket.AF_INET, socket.SOCK_STREAM)\n",
    "            self.__outgoingsocket.connect(('localhost', self.__port))\n",
    "                \n",
    "    def __sendMsg(self, msg, connection):\n",
    "        connection.send(msg.encode())\n",
    "        msg = connection.recv(1024).decode()\n",
    "        arguments = msg.strip().split('|')\n",
    "        return arguments\n",
    "    \n",
    "    def __login(self):\n",
    "        os.system('clear')\n",
    "        phone = input('Phone: ')\n",
    "        pwd = input('Password: ')\n",
    "        resp = self.__sendMsg('L|'+phone+'|'+pwd, self.__outgoingsocket)\n",
    "        if resp[0] == '0':\n",
    "            self.__incomingsocket.connect(('localhost', self.__port+1))\n",
    "            resp = self.__sendMsg('C|'+phone+'|'+pwd, self.__incomingsocket)\n",
    "            if resp[0] == '0':\n",
    "                Thread(target=self.__recvMsgs).start()\n",
    "                self.__displayMessagingInterface(phone, pwd)\n",
    "            else:\n",
    "                print('Error: '+resp[1])\n",
    "        else:\n",
    "            print('Error: '+resp[1])\n",
    "                    \n",
    "    def __createNewUser(self):\n",
    "        os.system('clear')\n",
    "        phone = input('Phone: ')\n",
    "        pwd = input('Password: ')\n",
    "        resp = self.__sendMsg('A|'+phone+'|'+pwd, self.__outgoingsocket)\n",
    "        if resp[0] == '0': \n",
    "            self.__incomingsocket.connect(('localhost', self.__port+1))\n",
    "            resp = self.__sendMsg('C|'+phone+'|'+pwd, self.__incomingsocket)\n",
    "            if resp[0] == '0':\n",
    "                Thread(target=self.__recvMsgs).start()\n",
    "                self.__displayMessagingInterface(phone, pwd)\n",
    "            else:\n",
    "                print('Error: '+resp[1])\n",
    "        else:\n",
    "            print('Error: '+resp[1])\n",
    "                    \n",
    "    def __displayMessagingInterface(self, phone, pwd):\n",
    "        print('To send msg, use format M|<recipient number>|<msg>')\n",
    "        print('Type QUIT to quit')\n",
    "        msg = input(':')\n",
    "        while msg != 'QUIT':\n",
    "            arguments = msg.strip().split('|')\n",
    "            msg = arguments[0]+'|'+phone+'|'+pwd+'|'+arguments[1]+'|'+arguments[2]\n",
    "            resp = self.__sendMsg(msg, self.__outgoingsocket)\n",
    "            if resp[0] != '0':\n",
    "                print('Error: '+resp[1])\n",
    "            msg = input(':')\n",
    "        self.__sendMsg('QUIT|'+phone, self.__outgoingsocket)\n",
    "        \n",
    "    def __recvMsgs(self):\n",
    "        msg = self.__incomingsocket.recv(1024).decode('UTF-8').strip()\n",
    "        while msg != 'QUIT':\n",
    "            arguments = msg.strip().split('|')\n",
    "            print('User '+arguments[1]+' says: '+arguments[4])\n",
    "            msg = self.__incomingsocket.recv(1024).decode('UTF-8').strip()\n",
    "        "
   ]
  },
  {
   "cell_type": "code",
   "execution_count": 2,
   "metadata": {},
   "outputs": [
    {
     "name": "stdout",
     "output_type": "stream",
     "text": [
      " Client Messaging\n",
      "___________________\n",
      "1. Login\n",
      "2. Create User\n",
      "3. Close\n"
     ]
    },
    {
     "name": "stdin",
     "output_type": "stream",
     "text": [
      ": 1\n",
      "Phone:  303\n",
      "Password:  pwd\n"
     ]
    },
    {
     "name": "stdout",
     "output_type": "stream",
     "text": [
      "Error: incorrect username or password\n",
      " Client Messaging\n",
      "___________________\n",
      "1. Login\n",
      "2. Create User\n",
      "3. Close\n"
     ]
    },
    {
     "name": "stdin",
     "output_type": "stream",
     "text": [
      ": 2\n",
      "Phone:  303 pwd\n",
      "Password:  pwd\n"
     ]
    },
    {
     "name": "stdout",
     "output_type": "stream",
     "text": [
      "To send msg, use format M|<recipient number>|<msg>\n",
      "Type QUIT to quit\n",
      "User 313 says: Hello\n"
     ]
    },
    {
     "name": "stdin",
     "output_type": "stream",
     "text": [
      ": M|313|hello back\n",
      ": M|313|still there?\n"
     ]
    },
    {
     "name": "stdout",
     "output_type": "stream",
     "text": [
      "Error: user not online\n"
     ]
    },
    {
     "name": "stdin",
     "output_type": "stream",
     "text": [
      ": QUIT\n"
     ]
    },
    {
     "name": "stdout",
     "output_type": "stream",
     "text": [
      " Client Messaging\n",
      "___________________\n",
      "1. Login\n",
      "2. Create User\n",
      "3. Close\n"
     ]
    },
    {
     "name": "stdin",
     "output_type": "stream",
     "text": [
      ": 3\n"
     ]
    }
   ],
   "source": [
    "c = Client(5000)\n",
    "c.runClient()"
   ]
  },
  {
   "cell_type": "code",
   "execution_count": null,
   "metadata": {},
   "outputs": [],
   "source": []
  }
 ],
 "metadata": {
  "kernelspec": {
   "display_name": "Python 3",
   "language": "python",
   "name": "python3"
  },
  "language_info": {
   "codemirror_mode": {
    "name": "ipython",
    "version": 3
   },
   "file_extension": ".py",
   "mimetype": "text/x-python",
   "name": "python",
   "nbconvert_exporter": "python",
   "pygments_lexer": "ipython3",
   "version": "3.7.4"
  }
 },
 "nbformat": 4,
 "nbformat_minor": 4
}
